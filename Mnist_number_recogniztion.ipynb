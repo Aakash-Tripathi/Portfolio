{
  "nbformat": 4,
  "nbformat_minor": 0,
  "metadata": {
    "colab": {
      "name": "Mnist",
      "version": "0.3.2",
      "provenance": [],
      "collapsed_sections": []
    },
    "kernelspec": {
      "name": "python3",
      "display_name": "Python 3"
    },
    "accelerator": "GPU"
  },
  "cells": [
    {
      "cell_type": "markdown",
      "metadata": {
        "id": "hloRI2_aBm5U",
        "colab_type": "text"
      },
      "source": [
        "# MNIST Number Recognition "
      ]
    },
    {
      "cell_type": "code",
      "metadata": {
        "id": "hTQiMOKHRLFF",
        "colab_type": "code",
        "colab": {}
      },
      "source": [
        "# import all the important libraries\n",
        "import tensorflow.keras as keras\n",
        "import tensorflow as tf\n",
        "import numpy as np\n",
        "import matplotlib.pyplot as plt"
      ],
      "execution_count": 0,
      "outputs": []
    },
    {
      "cell_type": "markdown",
      "metadata": {
        "id": "5-cGl9-_AxFc",
        "colab_type": "text"
      },
      "source": [
        "Import all the important libraries"
      ]
    },
    {
      "cell_type": "code",
      "metadata": {
        "id": "CYorCJCOASok",
        "colab_type": "code",
        "colab": {}
      },
      "source": [
        "mnist = tf.keras.datasets.mnist # Load the MNIST 28 x 28 number dataset\n",
        "(x_train, y_train),(x_test, y_test) = mnist.load_data()"
      ],
      "execution_count": 0,
      "outputs": []
    },
    {
      "cell_type": "markdown",
      "metadata": {
        "id": "9RtPCIsIBEvj",
        "colab_type": "text"
      },
      "source": [
        "\n",
        "x_train -> training image datasets\n",
        "\n",
        "y_train -> training dataset answer key"
      ]
    },
    {
      "cell_type": "code",
      "metadata": {
        "id": "BDX86hHGAPLg",
        "colab_type": "code",
        "outputId": "a18fbbb4-3871-4d7b-b484-0a9235c9a4a5",
        "colab": {
          "base_uri": "https://localhost:8080/",
          "height": 286
        }
      },
      "source": [
        "plt.imshow(x_train[2],cmap=plt.cm.binary)\n",
        "plt.show()\n",
        "print(y_train[2])"
      ],
      "execution_count": 0,
      "outputs": [
        {
          "output_type": "display_data",
          "data": {
            "image/png": "[encoded data removed]",
            "text/plain": [
              "<Figure size 432x288 with 1 Axes>"
            ]
          },
          "metadata": {
            "tags": []
          }
        },
        {
          "output_type": "stream",
          "text": [
            "4\n"
          ],
          "name": "stdout"
        }
      ]
    },
    {
      "cell_type": "markdown",
      "metadata": {
        "id": "JVWNPeXTExJn",
        "colab_type": "text"
      },
      "source": [
        "Check the training dataset"
      ]
    },
    {
      "cell_type": "code",
      "metadata": {
        "id": "WvBXA3diRoaF",
        "colab_type": "code",
        "outputId": "e6ce80ce-c5a0-42dc-e9ee-31a8b9819863",
        "colab": {
          "base_uri": "https://localhost:8080/",
          "height": 269
        }
      },
      "source": [
        "x_train = tf.keras.utils.normalize(x_train, axis=1)\n",
        "x_test = tf.keras.utils.normalize(x_test, axis=1)\n",
        "\n",
        "plt.imshow(x_train[2],cmap=plt.cm.binary)\n",
        "plt.show()"
      ],
      "execution_count": 0,
      "outputs": [
        {
          "output_type": "display_data",
          "data": {
            "image/png": "[encoded data removed]",
            "text/plain": [
              "<Figure size 432x288 with 1 Axes>"
            ]
          },
          "metadata": {
            "tags": []
          }
        }
      ]
    },
    {
      "cell_type": "markdown",
      "metadata": {
        "id": "zZArBtdBE4n1",
        "colab_type": "text"
      },
      "source": [
        "Normalize the dataset, in order to reduce the data size"
      ]
    },
    {
      "cell_type": "code",
      "metadata": {
        "id": "hMMztx8bRtda",
        "colab_type": "code",
        "outputId": "078ac96f-3b3f-4af1-fbfd-fd0c3e56b4bd",
        "colab": {
          "base_uri": "https://localhost:8080/",
          "height": 136
        }
      },
      "source": [
        "model = tf.keras.models.Sequential()\n",
        "model.add(tf.keras.layers.Flatten())\n",
        "model.add(tf.keras.layers.Dense(128, activation=tf.nn.relu))\n",
        "model.add(tf.keras.layers.Dense(128, activation=tf.nn.relu))\n",
        "model.add(tf.keras.layers.Dense(10, activation=tf.nn.softmax))\n",
        "model.compile(optimizer='adam',\n",
        "              loss='sparse_categorical_crossentropy',\n",
        "              metrics=['accuracy'])\n",
        "model.fit(x_train, y_train, epochs=3)"
      ],
      "execution_count": 0,
      "outputs": [
        {
          "output_type": "stream",
          "text": [
            "Epoch 1/3\n",
            "60000/60000 [==============================] - 5s 78us/sample - loss: 0.2628 - acc: 0.9223\n",
            "Epoch 2/3\n",
            "60000/60000 [==============================] - 5s 76us/sample - loss: 0.1095 - acc: 0.9668\n",
            "Epoch 3/3\n",
            "60000/60000 [==============================] - 5s 76us/sample - loss: 0.0741 - acc: 0.9775\n"
          ],
          "name": "stdout"
        },
        {
          "output_type": "execute_result",
          "data": {
            "text/plain": [
              "<tensorflow.python.keras.callbacks.History at 0x7fb01e380eb8>"
            ]
          },
          "metadata": {
            "tags": []
          },
          "execution_count": 75
        }
      ]
    },
    {
      "cell_type": "code",
      "metadata": {
        "id": "2GyGdN8oR5zn",
        "colab_type": "code",
        "outputId": "11734318-9889-41ab-cd38-e92ea7f83d05",
        "colab": {
          "base_uri": "https://localhost:8080/",
          "height": 34
        }
      },
      "source": [
        "val_loss, val_acc = model.evaluate(x_test, y_test)"
      ],
      "execution_count": 0,
      "outputs": [
        {
          "output_type": "stream",
          "text": [
            "10000/10000 [==============================] - 1s 52us/sample - loss: 0.0912 - acc: 0.9726\n"
          ],
          "name": "stdout"
        }
      ]
    },
    {
      "cell_type": "code",
      "metadata": {
        "id": "INk7cxiLSAp7",
        "colab_type": "code",
        "outputId": "0e388dcb-1417-4cd7-a10d-1dd5680b827b",
        "colab": {
          "base_uri": "https://localhost:8080/",
          "height": 286
        }
      },
      "source": [
        "print(y_test[99])\n",
        "plt.imshow(x_test[99],cmap=plt.cm.binary)\n",
        "plt.show()"
      ],
      "execution_count": 83,
      "outputs": [
        {
          "output_type": "stream",
          "text": [
            "9\n"
          ],
          "name": "stdout"
        },
        {
          "output_type": "display_data",
          "data": {
            "image/png": "[encoded data removed]",
            "text/plain": [
              "<Figure size 432x288 with 1 Axes>"
            ]
          },
          "metadata": {
            "tags": []
          }
        }
      ]
    },
    {
      "cell_type": "code",
      "metadata": {
        "id": "P6FyT70KGesA",
        "colab_type": "code",
        "outputId": "bb8b7d7f-eb6c-4ec2-f94f-9bb086f63094",
        "colab": {
          "base_uri": "https://localhost:8080/",
          "height": 70
        }
      },
      "source": [
        "model.save('mnist_number_recognition.model')\n",
        "new_model = tf.keras.models.load_model('mnist_number_recognition.model')\n",
        "predictions = new_model.predict(x_test)\n",
        "print(np.argmax(predictions[99]))"
      ],
      "execution_count": 85,
      "outputs": [
        {
          "output_type": "stream",
          "text": [
            "W0804 20:36:30.364914 140396206876544 hdf5_format.py:263] Sequential models without an `input_shape` passed to the first layer cannot reload their optimizer state. As a result, your model isstarting with a freshly initialized optimizer.\n"
          ],
          "name": "stderr"
        },
        {
          "output_type": "stream",
          "text": [
            "9\n"
          ],
          "name": "stdout"
        }
      ]
    },
    {
      "cell_type": "code",
      "metadata": {
        "id": "h_7erGtHWPCN",
        "colab_type": "code",
        "colab": {}
      },
      "source": [
        ""
      ],
      "execution_count": 0,
      "outputs": []
    }
  ]
}